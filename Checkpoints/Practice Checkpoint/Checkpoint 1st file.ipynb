{
 "cells": [
  {
   "cell_type": "markdown",
   "metadata": {
    "nbgrader": {
     "grade": false,
     "grade_id": "58c5d138de0cf674aaa9b0286bb12bca",
     "locked": true,
     "schema_version": 3,
     "solution": false,
     "task": false
    }
   },
   "source": [
    "# Data Science Practice Checkpoint\n",
    "\n",
    "This assignment is designed to test your understanding of the checkpoint process. It covers:\n",
    "\n",
    " - Anwering a code question\n",
    " \n",
    "**Note on checkpoints generally**:\n",
    " \n",
    "The purpose of assessments is to assess a student's comprehension and application of our Data Science program's key content.\n",
    "\n",
    "Checkpoints are formative, in-depth assessments\n",
    "\n",
    "Code challenges are summative, end-to-end assessments"
   ]
  },
  {
   "cell_type": "markdown",
   "metadata": {
    "nbgrader": {
     "grade": false,
     "grade_id": "dbc759291e61caa3abff81965d58106d",
     "locked": true,
     "schema_version": 3,
     "solution": false,
     "task": false
    }
   },
   "source": [
    "## Imports\n",
    "\n",
    "You will usually have to import different packages into a checkpoint or other material we give you\n",
    "\n",
    "Don't worry if you don't have all the mechanics about what that means at this point\n",
    "\n",
    "Just run the cell below, which is an example that imports the `string` module\n",
    "\n",
    "(You do not need to use the `string` module to answer these questions, although technically you can use it if you want to)"
   ]
  },
  {
   "cell_type": "code",
   "execution_count": 1,
   "metadata": {
    "nbgrader": {
     "grade": false,
     "grade_id": "cell-43f5d1ddfd9550ba",
     "locked": true,
     "schema_version": 3,
     "solution": false,
     "task": false
    }
   },
   "outputs": [],
   "source": [
    "# Run this cell without changes\n",
    "\n",
    "import string"
   ]
  },
  {
   "cell_type": "markdown",
   "metadata": {
    "nbgrader": {
     "grade": false,
     "grade_id": "cell-8d7ddfd00efc0027",
     "locked": true,
     "schema_version": 3,
     "solution": false,
     "task": false
    }
   },
   "source": [
    "## Cells with `# CodeGrade step` comments\n",
    "\n",
    "**CodeGrade** is our grading tool for checkpoints. When it assesses Jupyter notebooks, it looks for cells that have special comments that include the name `CodeGrade` as well as a \"step\" number. Look below: The cell with the `greet_user` function has a comment that reads `# CodeGrade step1.1`. CodeGrade will be looking for your answers in these cells and so it is critical that you DO NOT DELETE THESE COMMENTS! Delete any **None**'s but do not delete the CodeGrade comments."
   ]
  },
  {
   "cell_type": "markdown",
   "metadata": {
    "nbgrader": {
     "grade": false,
     "grade_id": "89300e37881c21a479089ce596b6b69f",
     "locked": true,
     "schema_version": 3,
     "solution": false,
     "task": false
    }
   },
   "source": [
    "## Question 1\n",
    "\n",
    "### Question Content\n",
    "\n",
    "In the cell below, modify the `greet_user` function to do the following:\n",
    "\n",
    " - take a name as an argument\n",
    " - return the statement \"Greetings! I am `name` and I am pleased to make your acquaintance!\"\n",
    "\n",
    "Then assign the name `\"Gene Hackman\"` to the variable `name`.\n",
    "\n",
    "Run all cells to confirm the result.\n",
    "\n",
    "### Additional Note\n",
    "\n",
    "You can generally ignore the language of \"your code here\". Instead pay attention to where the `None`s are that need to be replaced. "
   ]
  },
  {
   "cell_type": "code",
   "execution_count": 88,
   "metadata": {},
   "outputs": [],
   "source": [
    "# CodeGrade step1.1\n",
    "# Replace None with appropriate code\n",
    "def greet_user(name):\n",
    "    \"\"\"\n",
    "    this function takes a string name as an argument \n",
    "    and returns a greeting including that name\n",
    "    \"\"\"\n",
    "    message = \"\"\"  \n",
    "    Greetings!\n",
    "    I am gene hackman\n",
    "    \"\"\"\n",
    "    \n",
    "    print(message)\n",
    "    \n",
    "\n",
    "   \n",
    "\n",
    "    "
   ]
  },
  {
   "cell_type": "code",
   "execution_count": 90,
   "metadata": {
    "nbgrader": {
     "grade": false,
     "grade_id": "cell-dee65e5abdf05a93",
     "locked": false,
     "schema_version": 3,
     "solution": true,
     "task": false
    }
   },
   "outputs": [
    {
     "name": "stdout",
     "output_type": "stream",
     "text": [
      "Gene Hackman\n"
     ]
    }
   ],
   "source": [
    "# CodeGrade step1.2\n",
    "# Replace None with appropriate code\n",
    "name = \"gene hackman\".title()\n",
    "print(\"gene hackman\".title())\n"
   ]
  },
  {
   "cell_type": "code",
   "execution_count": 44,
   "metadata": {
    "nbgrader": {
     "grade": false,
     "grade_id": "cell-17700144d3c2e805",
     "locked": true,
     "schema_version": 3,
     "solution": false,
     "task": false
    }
   },
   "outputs": [
    {
     "name": "stdout",
     "output_type": "stream",
     "text": [
      "Greetings!I am Gene Hackmanand I am pleased to make your acquaintance!\n"
     ]
    }
   ],
   "source": [
    "print(\"Greetings!\" + \"I am Gene Hackman\" + \"and I am pleased to make your acquaintance!\")"
   ]
  },
  {
   "cell_type": "markdown",
   "metadata": {},
   "source": [
    "## Test Cells"
   ]
  },
  {
   "cell_type": "markdown",
   "metadata": {},
   "source": [
    "Sometimes you will see cells with **assert** statements. These test cells are designed to help you toward the right answers to questions. Run these cells to make sure that you are passing the tests, but know that this doesn't fully guarantee that your answer is correct. CodeGrade will also conduct **hidden** tests that you won't be able to access.\n",
    "\n",
    "You will see an error message explaining what is wrong if your answer does not pass the visible tests."
   ]
  },
  {
   "cell_type": "code",
   "execution_count": 91,
   "metadata": {},
   "outputs": [
    {
     "name": "stdout",
     "output_type": "stream",
     "text": [
      "  \n",
      "    Greetings!\n",
      "    I am gene hackman\n",
      "    \n"
     ]
    },
    {
     "ename": "AssertionError",
     "evalue": "",
     "output_type": "error",
     "traceback": [
      "\u001b[1;31m---------------------------------------------------------------------------\u001b[0m",
      "\u001b[1;31mAssertionError\u001b[0m                            Traceback (most recent call last)",
      "\u001b[1;32m~\\AppData\\Local\\Temp\\ipykernel_22200\\914599131.py\u001b[0m in \u001b[0;36m<module>\u001b[1;34m\u001b[0m\n\u001b[0;32m      1\u001b[0m \u001b[1;31m# greet_user should return a string\u001b[0m\u001b[1;33m\u001b[0m\u001b[1;33m\u001b[0m\u001b[0m\n\u001b[1;32m----> 2\u001b[1;33m \u001b[1;32massert\u001b[0m \u001b[0mtype\u001b[0m\u001b[1;33m(\u001b[0m\u001b[0mgreet_user\u001b[0m\u001b[1;33m(\u001b[0m\u001b[1;34m\"Max\"\u001b[0m\u001b[1;33m)\u001b[0m\u001b[1;33m)\u001b[0m \u001b[1;33m==\u001b[0m \u001b[0mstr\u001b[0m\u001b[1;33m\u001b[0m\u001b[1;33m\u001b[0m\u001b[0m\n\u001b[0m\u001b[0;32m      3\u001b[0m \u001b[1;31m# name should be a string\u001b[0m\u001b[1;33m\u001b[0m\u001b[1;33m\u001b[0m\u001b[0m\n\u001b[0;32m      4\u001b[0m \u001b[1;32massert\u001b[0m \u001b[0mtype\u001b[0m\u001b[1;33m(\u001b[0m\u001b[0mname\u001b[0m\u001b[1;33m)\u001b[0m \u001b[1;33m==\u001b[0m \u001b[0mstr\u001b[0m\u001b[1;33m\u001b[0m\u001b[1;33m\u001b[0m\u001b[0m\n",
      "\u001b[1;31mAssertionError\u001b[0m: "
     ]
    }
   ],
   "source": [
    "# greet_user should return a string\n",
    "assert type(greet_user(\"Max\")) == str\n",
    "# name should be a string\n",
    "assert type(name) == str"
   ]
  },
  {
   "cell_type": "code",
   "execution_count": null,
   "metadata": {},
   "outputs": [],
   "source": []
  }
 ],
 "metadata": {
  "celltoolbar": "Create Assignment",
  "kernelspec": {
   "display_name": "Python 3 (ipykernel)",
   "language": "python",
   "name": "python3"
  },
  "language_info": {
   "codemirror_mode": {
    "name": "ipython",
    "version": 3
   },
   "file_extension": ".py",
   "mimetype": "text/x-python",
   "name": "python",
   "nbconvert_exporter": "python",
   "pygments_lexer": "ipython3",
   "version": "3.9.13"
  }
 },
 "nbformat": 4,
 "nbformat_minor": 4
}
